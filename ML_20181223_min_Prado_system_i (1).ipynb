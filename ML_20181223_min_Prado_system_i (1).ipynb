{
 "cells": [
  {
   "cell_type": "code",
   "execution_count": 1,
   "metadata": {},
   "outputs": [],
   "source": [
    "# rounding problem: prices in res3 are integers essentially\n",
    "\n",
    "# how to do backtesting\n",
    "# \n",
    "# 时间做label，daily pattern\n",
    "# > 5bps\n",
    "# volume as an indicator?"
   ]
  },
  {
   "cell_type": "code",
   "execution_count": 2,
   "metadata": {},
   "outputs": [],
   "source": [
    "# 1, go over ch3 - ch 9, all techniques\n",
    "# 2, create training set, using chapter 3\n",
    "# 3, put weight, chapter 4, \n",
    "# 4, create a fractional differentiated features\n",
    "# 5, do a bagging, random forest\n",
    "# 6, cross validation, ch 6\n",
    "# 7, calculate feature importance "
   ]
  },
  {
   "cell_type": "code",
   "execution_count": 1,
   "metadata": {},
   "outputs": [],
   "source": [
    "import csv\n",
    "import pandas as pd\n",
    "import numpy as np\n",
    "import math\n",
    "import scipy.stats\n",
    "import matplotlib.pyplot as plt\n",
    "import pprint\n",
    "from collections import OrderedDict\n",
    "import time\n",
    "%matplotlib inline\n"
   ]
  },
  {
   "cell_type": "code",
   "execution_count": 4,
   "metadata": {},
   "outputs": [],
   "source": [
    "import sklearn\n",
    "from sklearn.model_selection import KFold"
   ]
  },
  {
   "cell_type": "code",
   "execution_count": 5,
   "metadata": {},
   "outputs": [],
   "source": [
    "from utils_5 import *\n",
    "from technical import *\n",
    "# from strategy import *\n",
    "from Prado import *"
   ]
  },
  {
   "cell_type": "code",
   "execution_count": 6,
   "metadata": {},
   "outputs": [],
   "source": [
    "import random"
   ]
  },
  {
   "cell_type": "code",
   "execution_count": 7,
   "metadata": {},
   "outputs": [
    {
     "name": "stdout",
     "output_type": "stream",
     "text": [
      "415231\n",
      "('Time consumed in data_reading_1', 227.14410209655762)\n"
     ]
    }
   ],
   "source": [
    "name = 'i'\n",
    "\n",
    "csvfile = \"/Users/jun/data/commodity/\"+name+\"_min.csv\"\n",
    "\n",
    "b = data_reading_1(csvfile)"
   ]
  },
  {
   "cell_type": "markdown",
   "metadata": {},
   "source": [
    "# get a time sequence"
   ]
  },
  {
   "cell_type": "code",
   "execution_count": 8,
   "metadata": {},
   "outputs": [
    {
     "name": "stderr",
     "output_type": "stream",
     "text": [
      "utils_5.py:70: UserWarning: Boolean Series key will be reindexed to match DataFrame index.\n",
      "  temp = b[b['InstrumentID'] == id][b['ExchTime'] > '20'+str(i-1)+'-0'+str(month_dict[j][0]) ][b['ExchTime'] < '20'+str(i)+'-0'+str(j) ]\n"
     ]
    },
    {
     "name": "stdout",
     "output_type": "stream",
     "text": [
      "('i_1201', 0)\n"
     ]
    },
    {
     "name": "stderr",
     "output_type": "stream",
     "text": [
      "utils_5.py:68: UserWarning: Boolean Series key will be reindexed to match DataFrame index.\n",
      "  temp = b[b['InstrumentID'] == id][b['ExchTime'] > '20'+str(i)+'-0'+str(month_dict[j][0]) ][b['ExchTime'] < '20'+str(i)+'-0'+str(j) ]\n"
     ]
    },
    {
     "name": "stdout",
     "output_type": "stream",
     "text": [
      "('i_1205', 0)\n",
      "('i_1209', 0)\n",
      "('i_1301', 0)\n",
      "('i_1305', 0)\n",
      "('i_1309', 0)\n",
      "('i_1401', 0)\n",
      "('i_1405', 15775)\n",
      "('i_1409', 17491)\n",
      "('i_1501', 16934)\n",
      "('i_1505', 33763)\n",
      "('i_1509', 32323)\n",
      "('i_1601', 29666)\n",
      "('i_1605', 29014)\n",
      "('i_1609', 31572)\n",
      "('i_1701', 29018)\n",
      "('i_1705', 28330)\n",
      "('i_1709', 32039)\n",
      "('i_1801', 30132)\n",
      "('i_1805', 28516)\n",
      "('i_1809', 31949)\n"
     ]
    }
   ],
   "source": [
    "res,roll_date = func1(b,name)"
   ]
  },
  {
   "cell_type": "code",
   "execution_count": 9,
   "metadata": {
    "scrolled": true
   },
   "outputs": [
    {
     "name": "stdout",
     "output_type": "stream",
     "text": [
      "(datetime.date(2014, 1, 2), 220, 361, 76, 90, 226, 226)\n"
     ]
    },
    {
     "name": "stderr",
     "output_type": "stream",
     "text": [
      "utils_5.py:84: UserWarning: Boolean Series key will be reindexed to match DataFrame index.\n",
      "  temp = res[res['ExchTime'] > str(date)][res['ExchTime'] < str(next_date)]\n"
     ]
    },
    {
     "name": "stdout",
     "output_type": "stream",
     "text": [
      "(datetime.date(2014, 1, 22), 225, 361, 76, 90, 226, 226)\n",
      "(datetime.date(2014, 2, 12), 217, 361, 76, 90, 226, 226)\n",
      "(datetime.date(2014, 3, 12), 226, 361, 76, 90, 226, 226)\n",
      "(datetime.date(2014, 4, 2), 190, 361, 76, 90, 226, 226)\n",
      "(datetime.date(2014, 4, 22), 115, 357, 76, 90, 226, 226)\n",
      "(datetime.date(2014, 5, 12), 226, 361, 76, 90, 226, 226)\n",
      "(datetime.date(2014, 5, 22), 226, 361, 76, 90, 226, 226)\n",
      "(datetime.date(2014, 6, 12), 226, 361, 76, 90, 226, 226)\n",
      "(datetime.date(2014, 7, 2), 226, 361, 76, 90, 226, 226)\n",
      "(datetime.date(2014, 7, 22), 226, 361, 76, 90, 226, 226)\n",
      "(datetime.date(2014, 8, 12), 165, 361, 76, 90, 226, 226)\n",
      "(datetime.date(2014, 8, 22), 93, 359, 76, 90, 226, 226)\n",
      "(datetime.date(2014, 9, 2), 226, 361, 76, 90, 226, 226)\n",
      "(datetime.date(2014, 9, 12), 226, 361, 76, 90, 226, 226)\n",
      "(datetime.date(2014, 9, 22), 226, 361, 76, 90, 226, 226)\n",
      "(datetime.date(2014, 10, 22), 226, 361, 76, 90, 226, 226)\n",
      "(datetime.date(2014, 11, 12), 219, 361, 76, 90, 226, 226)\n",
      "(datetime.date(2014, 12, 2), 192, 361, 76, 90, 226, 226)\n",
      "(datetime.date(2014, 12, 12), 161, 360, 76, 90, 226, 226)\n",
      "(datetime.date(2014, 12, 22), 153, 361, 76, 90, 226, 226)\n",
      "(datetime.date(2015, 1, 12), 402, 900, 76, 90, 226, 226)\n",
      "(datetime.date(2015, 1, 22), 527, 1439, 76, 90, 226, 226)\n",
      "(datetime.date(2015, 2, 2), 401, 900, 76, 90, 226, 226)\n",
      "(datetime.date(2015, 2, 12), 428, 1439, 76, 90, 226, 226)\n",
      "(datetime.date(2015, 3, 2), 396, 900, 76, 90, 226, 226)\n",
      "(datetime.date(2015, 3, 12), 396, 1439, 76, 90, 226, 226)\n",
      "(datetime.date(2015, 4, 2), 421, 1436, 76, 90, 226, 226)\n",
      "(datetime.date(2015, 4, 22), 323, 1439, 76, 90, 226, 226)\n",
      "(datetime.date(2015, 5, 12), 377, 871, 76, 90, 226, 226)\n",
      "(datetime.date(2015, 5, 22), 376, 870, 76, 90, 226, 226)\n",
      "(datetime.date(2015, 6, 2), 377, 871, 76, 90, 226, 226)\n",
      "(datetime.date(2015, 6, 12), 377, 871, 76, 90, 226, 226)\n",
      "(datetime.date(2015, 7, 2), 377, 871, 76, 90, 226, 226)\n",
      "(datetime.date(2015, 7, 22), 376, 871, 76, 90, 226, 226)\n",
      "(datetime.date(2015, 8, 12), 376, 871, 76, 90, 226, 226)\n",
      "(datetime.date(2015, 9, 2), 225, 360, 76, 90, 226, 226)\n",
      "(datetime.date(2015, 9, 22), 377, 871, 76, 90, 226, 226)\n",
      "(datetime.date(2015, 10, 12), 377, 871, 76, 90, 226, 226)\n",
      "(datetime.date(2015, 10, 22), 377, 871, 76, 90, 226, 226)\n",
      "(datetime.date(2015, 11, 2), 377, 871, 76, 90, 226, 226)\n",
      "(datetime.date(2015, 11, 12), 377, 871, 76, 90, 226, 226)\n",
      "(datetime.date(2015, 12, 2), 376, 870, 76, 90, 226, 226)\n",
      "(datetime.date(2015, 12, 22), 370, 870, 76, 90, 226, 226)\n",
      "(datetime.date(2016, 1, 12), 377, 871, 76, 90, 226, 226)\n",
      "(datetime.date(2016, 1, 22), 377, 871, 76, 90, 226, 226)\n",
      "(datetime.date(2016, 2, 2), 377, 871, 76, 90, 226, 226)\n",
      "(datetime.date(2016, 2, 22), 377, 871, 76, 90, 226, 226)\n",
      "(datetime.date(2016, 3, 2), 377, 871, 76, 90, 226, 226)\n",
      "(datetime.date(2016, 3, 22), 377, 871, 76, 90, 226, 226)\n",
      "(datetime.date(2016, 4, 12), 375, 871, 76, 90, 226, 226)\n",
      "(datetime.date(2016, 4, 22), 376, 871, 76, 90, 226, 226)\n",
      "(datetime.date(2016, 5, 12), 377, 871, 76, 90, 226, 226)\n",
      "(datetime.date(2016, 6, 2), 377, 871, 76, 90, 226, 226)\n",
      "(datetime.date(2016, 6, 22), 377, 871, 76, 90, 226, 226)\n",
      "(datetime.date(2016, 7, 12), 377, 871, 76, 90, 226, 226)\n",
      "(datetime.date(2016, 7, 22), 377, 871, 76, 90, 226, 226)\n",
      "(datetime.date(2016, 8, 2), 377, 871, 76, 90, 226, 226)\n",
      "(datetime.date(2016, 8, 12), 377, 871, 76, 90, 226, 226)\n",
      "(datetime.date(2016, 8, 22), 361, 870, 76, 90, 226, 226)\n",
      "(datetime.date(2016, 9, 2), 377, 871, 76, 90, 226, 226)\n",
      "(datetime.date(2016, 9, 12), 377, 871, 76, 90, 226, 226)\n",
      "(datetime.date(2016, 9, 22), 377, 871, 76, 90, 226, 226)\n",
      "(datetime.date(2016, 10, 12), 376, 870, 76, 90, 226, 226)\n",
      "(datetime.date(2016, 11, 2), 375, 871, 76, 90, 226, 226)\n",
      "(datetime.date(2016, 11, 22), 364, 871, 76, 90, 226, 226)\n",
      "(datetime.date(2016, 12, 2), 376, 870, 76, 90, 226, 226)\n",
      "(datetime.date(2016, 12, 12), 375, 870, 76, 90, 226, 226)\n",
      "(datetime.date(2016, 12, 22), 353, 870, 76, 90, 226, 226)\n",
      "(datetime.date(2017, 1, 12), 376, 870, 76, 90, 226, 226)\n",
      "(datetime.date(2017, 2, 22), 376, 870, 76, 90, 226, 226)\n",
      "(datetime.date(2017, 3, 2), 377, 871, 76, 90, 226, 226)\n",
      "(datetime.date(2017, 3, 22), 377, 871, 76, 90, 226, 226)\n",
      "(datetime.date(2017, 4, 12), 376, 870, 76, 90, 226, 226)\n",
      "(datetime.date(2017, 5, 2), 378, 872, 76, 90, 226, 226)\n",
      "(datetime.date(2017, 5, 12), 377, 871, 76, 90, 226, 226)\n",
      "(datetime.date(2017, 5, 22), 377, 871, 76, 90, 226, 226)\n",
      "(datetime.date(2017, 6, 2), 377, 871, 76, 90, 226, 226)\n",
      "(datetime.date(2017, 6, 12), 377, 871, 76, 90, 226, 226)\n",
      "(datetime.date(2017, 6, 22), 377, 871, 76, 90, 226, 226)\n",
      "(datetime.date(2017, 7, 12), 377, 871, 76, 90, 226, 226)\n",
      "(datetime.date(2017, 8, 2), 376, 870, 76, 90, 226, 226)\n",
      "(datetime.date(2017, 8, 22), 374, 870, 76, 90, 226, 226)\n",
      "(datetime.date(2017, 9, 12), 377, 871, 76, 90, 226, 226)\n",
      "(datetime.date(2017, 9, 22), 377, 871, 76, 90, 226, 226)\n",
      "(datetime.date(2017, 10, 12), 376, 870, 76, 90, 226, 226)\n",
      "(datetime.date(2017, 11, 2), 377, 871, 76, 90, 226, 226)\n",
      "(datetime.date(2017, 11, 22), 377, 871, 76, 90, 226, 226)\n",
      "(datetime.date(2017, 12, 12), 376, 870, 76, 90, 226, 226)\n",
      "(datetime.date(2017, 12, 22), 370, 870, 76, 90, 226, 226)\n",
      "(datetime.date(2018, 1, 2), 377, 871, 76, 90, 226, 226)\n",
      "(datetime.date(2018, 1, 12), 377, 871, 76, 90, 226, 226)\n",
      "(datetime.date(2018, 1, 22), 376, 870, 76, 90, 226, 226)\n",
      "(datetime.date(2018, 2, 2), 377, 871, 76, 90, 226, 226)\n",
      "(datetime.date(2018, 2, 12), 376, 870, 76, 90, 226, 226)\n",
      "(datetime.date(2018, 2, 22), 378, 872, 76, 90, 226, 226)\n",
      "(datetime.date(2018, 3, 2), 377, 871, 76, 90, 226, 226)\n",
      "(datetime.date(2018, 3, 12), 377, 871, 76, 90, 226, 226)\n",
      "(datetime.date(2018, 3, 22), 377, 871, 76, 90, 226, 226)\n",
      "(datetime.date(2018, 4, 2), 377, 871, 76, 90, 226, 226)\n",
      "(datetime.date(2018, 4, 12), 376, 870, 76, 90, 226, 226)\n",
      "(datetime.date(2018, 5, 2), 378, 872, 76, 90, 226, 226)\n",
      "(datetime.date(2018, 5, 22), 377, 871, 76, 90, 226, 226)\n",
      "(datetime.date(2018, 6, 12), 377, 871, 76, 90, 226, 226)\n",
      "(datetime.date(2018, 6, 22), 377, 871, 76, 90, 226, 226)\n",
      "(datetime.date(2018, 7, 2), 376, 870, 76, 90, 226, 226)\n",
      "(datetime.date(2018, 7, 12), 377, 871, 76, 90, 226, 226)\n",
      "(datetime.date(2018, 8, 2), 376, 870, 76, 90, 226, 226)\n",
      "(datetime.date(2018, 8, 22), 341, 870, 76, 90, 226, 226)\n"
     ]
    }
   ],
   "source": [
    "res2 = func2_2_v2(res)\n",
    "res2['ExchTime'] = res2.index\n",
    "res2.index = range(len(res2))"
   ]
  },
  {
   "cell_type": "code",
   "execution_count": 10,
   "metadata": {},
   "outputs": [
    {
     "name": "stdout",
     "output_type": "stream",
     "text": [
      "(datetime.date(2014, 5, 5), 759.0)\n",
      "(datetime.date(2014, 5, 5), 688.0)\n",
      "(datetime.date(2014, 9, 1), 556.0)\n",
      "(datetime.date(2014, 9, 1), 587.0)\n",
      "(datetime.date(2015, 1, 5), 465.0)\n",
      "(datetime.date(2015, 1, 5), 444.0)\n",
      "(datetime.date(2015, 5, 4), 355.5)\n",
      "(datetime.date(2015, 5, 4), 311.5)\n",
      "(datetime.date(2015, 9, 1), 283.0)\n",
      "(datetime.date(2015, 9, 1), 219.5)\n",
      "(datetime.date(2016, 1, 4), 157.0)\n",
      "(datetime.date(2016, 1, 4), 123.0)\n",
      "(datetime.date(2016, 5, 3), 259.5)\n",
      "(datetime.date(2016, 5, 3), 179.5)\n",
      "(datetime.date(2016, 9, 1), 130.5)\n",
      "(datetime.date(2016, 9, 1), 60.5)\n",
      "(datetime.date(2017, 1, 3), 198.5)\n",
      "(datetime.date(2017, 1, 3), 81.5)\n",
      "(datetime.date(2017, 5, 2), 61.5)\n",
      "(datetime.date(2017, 5, 2), 68.0)\n",
      "(datetime.date(2017, 9, 1), 111.5)\n",
      "(datetime.date(2017, 9, 1), 86.0)\n",
      "(datetime.date(2018, 1, 2), 43.0)\n",
      "(datetime.date(2018, 1, 2), 94.5)\n",
      "(datetime.date(2018, 5, 2), 26.5)\n",
      "(datetime.date(2018, 5, 2), 36.5)\n"
     ]
    }
   ],
   "source": [
    "# res2.set_index(range(len(res2)))\n",
    "# res2['ExchTime'] = res2.index\n",
    "# res2.index = range(len(res2))\n",
    "# res2\n",
    "\n",
    "res3 = get_rolled_closeprice(res2,list( pd.Series( roll_date ).drop_duplicates() ))"
   ]
  },
  {
   "cell_type": "markdown",
   "metadata": {},
   "source": [
    "# Need to transform here"
   ]
  },
  {
   "cell_type": "code",
   "execution_count": 11,
   "metadata": {},
   "outputs": [
    {
     "name": "stderr",
     "output_type": "stream",
     "text": [
      "/Users/jun/anaconda2/lib/python2.7/site-packages/ipykernel_launcher.py:4: RuntimeWarning: divide by zero encountered in divide\n",
      "  after removing the cwd from sys.path.\n",
      "/Users/jun/anaconda2/lib/python2.7/site-packages/ipykernel_launcher.py:4: RuntimeWarning: invalid value encountered in divide\n",
      "  after removing the cwd from sys.path.\n",
      "technical.py:38: FutureWarning: get_value is deprecated and will be removed in a future release. Please use .at[] or .iat[] accessors instead\n",
      "  TR = max(df.get_value(i + 1, 'HighPrice'), df.get_value(i, 'ClosePrice')) - min(df.get_value(i + 1, 'LowPrice'),df.get_value(i, 'ClosePrice'))\n"
     ]
    }
   ],
   "source": [
    "# create training data\n",
    "\n",
    "temp = list( res3.ClosePrice )\n",
    "y_ret = ( fwdshift(1,temp) - temp ) /temp \n",
    "y_label = np.array( [ label_return(x,0.01) for x in y_ret ] )\n",
    "y=y_label\n",
    "\n",
    "temp = res3\n",
    "temp.index = range(len(temp))\n",
    "temp = MOM(temp,5)\n",
    "temp = ROC(temp,5)\n",
    "temp = ATR(temp,5)\n",
    "temp = PPSR(temp)\n",
    "X = temp[ [ 'Momentum_5','ROC_5','ATR_5',u'PP', u'R1', u'R2', u'R3', u'S1', u'S2', u'S3' ] ]"
   ]
  },
  {
   "cell_type": "markdown",
   "metadata": {},
   "source": [
    "# marcos prado system"
   ]
  },
  {
   "cell_type": "code",
   "execution_count": 12,
   "metadata": {},
   "outputs": [],
   "source": [
    "# res4 = res3.iloc[:226*200].copy()\n",
    "res4 = res3.copy()"
   ]
  },
  {
   "cell_type": "code",
   "execution_count": 13,
   "metadata": {},
   "outputs": [
    {
     "name": "stdout",
     "output_type": "stream",
     "text": [
      "(1156.0, 'Days')\n"
     ]
    }
   ],
   "source": [
    "print(len(res3)/226.0,'Days')"
   ]
  },
  {
   "cell_type": "markdown",
   "metadata": {},
   "source": [
    "# ch2"
   ]
  },
  {
   "cell_type": "code",
   "execution_count": 14,
   "metadata": {},
   "outputs": [],
   "source": [
    "close = res4.ClosePrice.copy()\n",
    "hist_vol = getDailyVol(close)"
   ]
  },
  {
   "cell_type": "markdown",
   "metadata": {},
   "source": [
    "# ch 3"
   ]
  },
  {
   "cell_type": "code",
   "execution_count": 15,
   "metadata": {},
   "outputs": [
    {
     "name": "stdout",
     "output_type": "stream",
     "text": [
      "Index([u'Unnamed: 0', u'InstrumentID', u'OpenPrice', u'HighPrice', u'LowPrice',\n",
      "       u'ClosePrice', u'OpenInterest', u'Turnover', u'Volume', u'ExchTime',\n",
      "       u't1', u'trgt'],\n",
      "      dtype='object')\n"
     ]
    }
   ],
   "source": [
    "# temp2\n",
    "close = res4.ClosePrice.copy()\n",
    "events = res4.copy()\n",
    "ptSl = [2,2]\n",
    "molecule = events.index\n",
    "\n",
    "# events = events.rename({'ExchTime': 't1'})\n",
    "events['t1'] = events.index + 60*2\n",
    "events['trgt'] = [0,0,0] + list(hist_vol[1:])\n",
    "# events = events.rename(index=str,columns = {'ExchTime': 't1'})\n",
    "events.index = range(len(events))\n",
    "print(events.columns)"
   ]
  },
  {
   "cell_type": "code",
   "execution_count": 16,
   "metadata": {
    "scrolled": true
   },
   "outputs": [
    {
     "name": "stdout",
     "output_type": "stream",
     "text": [
      "('Time comsumed in applyPtSlOnT1', 2819.509530067444)\n"
     ]
    }
   ],
   "source": [
    "begin = time.time()\n",
    "output_applyPtSlOnT1 = applyPtSlOnT1(close,events,ptSl,molecule)\n",
    "print( 'Time comsumed in applyPtSlOnT1' ,time.time() - begin )"
   ]
  },
  {
   "cell_type": "code",
   "execution_count": 17,
   "metadata": {},
   "outputs": [],
   "source": [
    "# research in labeling"
   ]
  },
  {
   "cell_type": "code",
   "execution_count": 18,
   "metadata": {},
   "outputs": [],
   "source": [
    "# close\n",
    "# tEvents = close.index[::2]\n",
    "tEvents = close.index\n",
    "\n",
    "ptSl = 0.01\n",
    "trgt = events.trgt\n",
    "minRet = 0.001\n",
    "numThreads = 1\n",
    "t1 = events.t1\n",
    "\n",
    "output_getEvents = getEvents(close,tEvents,ptSl,trgt,minRet,numThreads,t1)\n",
    "# output_getEvents"
   ]
  },
  {
   "cell_type": "code",
   "execution_count": 19,
   "metadata": {},
   "outputs": [],
   "source": [
    "# SNIPPET 3.5\n",
    "# independent of triple barrier method\n",
    "output_getBins = getBins(events,close)\n",
    "# nan till -120\n",
    "# output_getBins"
   ]
  },
  {
   "cell_type": "markdown",
   "metadata": {},
   "source": [
    "# chapter 7 "
   ]
  },
  {
   "cell_type": "code",
   "execution_count": 20,
   "metadata": {},
   "outputs": [],
   "source": [
    "# feature_opengap_1 = pd.Series( events.OpenPrice - backshift(1,events.HighPrice))\n",
    "# feature_opengap_2 = pd.Series( events.OpenPrice - backshift(1,events.LowPrice) )\n",
    "# events['Opengap1'] = feature_opengap_1\n",
    "# events['Opengap2'] = feature_opengap_2"
   ]
  },
  {
   "cell_type": "code",
   "execution_count": 21,
   "metadata": {},
   "outputs": [
    {
     "name": "stdout",
     "output_type": "stream",
     "text": [
      "1156.0\n"
     ]
    }
   ],
   "source": [
    "# events = MOM(events,1)\n",
    "# events = MOM(events,2)\n",
    "# events = MOM(events,3)\n",
    "# events = MOM(events,4)\n",
    "# events = MOM(events,5)\n",
    "print(len(events)/226.0)"
   ]
  },
  {
   "cell_type": "code",
   "execution_count": 22,
   "metadata": {},
   "outputs": [],
   "source": [
    "events = ROC(events,2)\n",
    "events = ROC(events,3)\n",
    "events = ROC(events,4)\n",
    "events = ROC(events,5)\n",
    "events = ROC(events,10)\n",
    "events = ROC(events,20)\n",
    "events = ROC(events,30)\n",
    "events = ROC(events,60)\n",
    "events = ROC(events,90)\n",
    "events = ROC(events,120)\n",
    "events = ROC(events,180)\n",
    "events = ROC(events,226)\n",
    "events = ROC(events,226*2)\n",
    "events = ROC(events,226*3)\n",
    "events = ROC(events,226*4)\n",
    "# # events = ROC(events,5)\n",
    "# # events = ATR(events,5)\n",
    "# # events = PPSR(events)"
   ]
  },
  {
   "cell_type": "code",
   "execution_count": 23,
   "metadata": {},
   "outputs": [
    {
     "name": "stdout",
     "output_type": "stream",
     "text": [
      "(243050, 243050, 41267, 43161)\n"
     ]
    }
   ],
   "source": [
    "from sklearn.ensemble import GradientBoostingClassifier\n",
    "\n",
    "selected_column= ['ROC_2','ROC_3','ROC_4','ROC_5','ROC_10','ROC_20','ROC_30','ROC_60','ROC_90','ROC_120',\n",
    "                  'ROC_180','ROC_226','ROC_452',u'ROC_678', u'ROC_904']\n",
    "X = pd.DataFrame([])\n",
    "\n",
    "RANDOM_STATE = 124\n",
    "clf=GradientBoostingClassifier(warm_start=False,max_features=\"log2\",random_state=RANDOM_STATE)\n",
    "clf.set_params(n_estimators=100)\n",
    "\n",
    "# following label is wrong:\n",
    "# y = pd.Series( output_getBins.bin ).iloc[:-120]\n",
    "# new label\n",
    "y  = pd.Series( [0] * len(output_applyPtSlOnT1) )\n",
    "y.loc[ output_applyPtSlOnT1.sl > output_applyPtSlOnT1.pt ] = 1\n",
    "y.loc[ output_applyPtSlOnT1.sl < output_applyPtSlOnT1.pt ] = -1\n",
    "\n",
    "y = y.iloc[:-120]\n",
    "# double check\n",
    "\n",
    "y = y.iloc[X.index]\n",
    "print(len(X), len(y), np.sum(y == 1), np.sum(output_applyPtSlOnT1.sl > output_applyPtSlOnT1.pt),  ) \n"
   ]
  },
  {
   "cell_type": "code",
   "execution_count": null,
   "metadata": {},
   "outputs": [],
   "source": [
    "X = pd.DataFrame([])\n",
    "X[]"
   ]
  },
  {
   "cell_type": "code",
   "execution_count": null,
   "metadata": {},
   "outputs": [],
   "source": []
  },
  {
   "cell_type": "code",
   "execution_count": 24,
   "metadata": {},
   "outputs": [
    {
     "name": "stdout",
     "output_type": "stream",
     "text": [
      "Index([u'Unnamed: 0', u'InstrumentID', u'OpenPrice', u'HighPrice', u'LowPrice',\n",
      "       u'ClosePrice', u'OpenInterest', u'Turnover', u'Volume', u'ExchTime',\n",
      "       u't1', u'trgt'],\n",
      "      dtype='object')\n"
     ]
    }
   ],
   "source": [
    "# temp2\n",
    "close = res4.ClosePrice.copy()\n",
    "events = res4.copy()\n",
    "ptSl = [0.01,0.01]\n",
    "molecule = events.index\n",
    "\n",
    "# events = events.rename({'ExchTime': 't1'})\n",
    "events['t1'] = events.index + 60*2\n",
    "events['trgt'] = [0,0,0] + list(hist_vol[1:])\n",
    "# events = events.rename(index=str,columns = {'ExchTime': 't1'})\n",
    "events.index = range(len(events))\n",
    "print(events.columns)\n",
    "\n",
    "sample_weight = pd.Series( [1] * len(y) )"
   ]
  },
  {
   "cell_type": "code",
   "execution_count": null,
   "metadata": {},
   "outputs": [],
   "source": []
  },
  {
   "cell_type": "code",
   "execution_count": null,
   "metadata": {},
   "outputs": [],
   "source": []
  },
  {
   "cell_type": "code",
   "execution_count": 25,
   "metadata": {},
   "outputs": [
    {
     "name": "stderr",
     "output_type": "stream",
     "text": [
      "/Users/jun/anaconda2/lib/python2.7/site-packages/pandas/core/series.py:841: FutureWarning: \n",
      "Passing list-likes to .loc or [] with any missing label will raise\n",
      "KeyError in the future, you can use .reindex() as an alternative.\n",
      "\n",
      "See the documentation here:\n",
      "https://pandas.pydata.org/pandas-docs/stable/indexing.html#deprecate-loc-reindex-listlike\n",
      "  return self.loc[key]\n",
      "/Users/jun/anaconda2/lib/python2.7/site-packages/numpy/core/_methods.py:36: RuntimeWarning: invalid value encountered in reduce\n",
      "  return umr_sum(a, axis, dtype, out, keepdims, initial)\n"
     ]
    },
    {
     "ename": "ValueError",
     "evalue": "Input contains NaN, infinity or a value too large for dtype('float32').",
     "output_type": "error",
     "traceback": [
      "\u001b[0;31m---------------------------------------------------------------------------\u001b[0m",
      "\u001b[0;31mValueError\u001b[0m                                Traceback (most recent call last)",
      "\u001b[0;32m<ipython-input-25-0950b2fc27c6>\u001b[0m in \u001b[0;36m<module>\u001b[0;34m()\u001b[0m\n\u001b[1;32m      1\u001b[0m \u001b[0mbegin\u001b[0m \u001b[0;34m=\u001b[0m \u001b[0mtime\u001b[0m\u001b[0;34m.\u001b[0m\u001b[0mtime\u001b[0m\u001b[0;34m(\u001b[0m\u001b[0;34m)\u001b[0m\u001b[0;34m\u001b[0m\u001b[0m\n\u001b[1;32m      2\u001b[0m \u001b[0mclf\u001b[0m\u001b[0;34m.\u001b[0m\u001b[0mset_params\u001b[0m\u001b[0;34m(\u001b[0m\u001b[0mn_estimators\u001b[0m\u001b[0;34m=\u001b[0m\u001b[0;36m100\u001b[0m\u001b[0;34m)\u001b[0m\u001b[0;34m\u001b[0m\u001b[0m\n\u001b[0;32m----> 3\u001b[0;31m \u001b[0mtemp1\u001b[0m \u001b[0;34m=\u001b[0m \u001b[0mcvScore\u001b[0m\u001b[0;34m(\u001b[0m\u001b[0mclf\u001b[0m\u001b[0;34m,\u001b[0m\u001b[0mX\u001b[0m\u001b[0;34m,\u001b[0m\u001b[0my\u001b[0m\u001b[0;34m,\u001b[0m\u001b[0msample_weight\u001b[0m\u001b[0;34m,\u001b[0m\u001b[0mscoring\u001b[0m\u001b[0;34m=\u001b[0m\u001b[0;34m'accuracy'\u001b[0m\u001b[0;34m,\u001b[0m\u001b[0mt1\u001b[0m\u001b[0;34m=\u001b[0m\u001b[0mevents\u001b[0m\u001b[0;34m.\u001b[0m\u001b[0mt1\u001b[0m\u001b[0;34m.\u001b[0m\u001b[0miloc\u001b[0m\u001b[0;34m[\u001b[0m\u001b[0mX\u001b[0m\u001b[0;34m.\u001b[0m\u001b[0mindex\u001b[0m\u001b[0;34m]\u001b[0m\u001b[0;34m,\u001b[0m\u001b[0mcv\u001b[0m\u001b[0;34m=\u001b[0m \u001b[0;36m10\u001b[0m\u001b[0;34m,\u001b[0m\u001b[0mpctEmbargo\u001b[0m \u001b[0;34m=\u001b[0m \u001b[0;36m0.05\u001b[0m\u001b[0;34m)\u001b[0m\u001b[0;34m\u001b[0m\u001b[0m\n\u001b[0m\u001b[1;32m      4\u001b[0m \u001b[0;32mprint\u001b[0m\u001b[0;34m(\u001b[0m\u001b[0;34m'Time consuming:'\u001b[0m\u001b[0;34m,\u001b[0m\u001b[0mtime\u001b[0m\u001b[0;34m.\u001b[0m\u001b[0mtime\u001b[0m\u001b[0;34m(\u001b[0m\u001b[0;34m)\u001b[0m \u001b[0;34m-\u001b[0m \u001b[0mbegin\u001b[0m\u001b[0;34m)\u001b[0m\u001b[0;34m\u001b[0m\u001b[0m\n",
      "\u001b[0;32m/Users/jun/Documents/py/pairs_trading/Prado.pyc\u001b[0m in \u001b[0;36mcvScore\u001b[0;34m(clf, X, y, sample_weight, scoring, t1, cv, cvGen, pctEmbargo)\u001b[0m\n\u001b[1;32m    376\u001b[0m     \u001b[0mscore\u001b[0m\u001b[0;34m=\u001b[0m\u001b[0;34m[\u001b[0m\u001b[0;34m]\u001b[0m\u001b[0;34m\u001b[0m\u001b[0m\n\u001b[1;32m    377\u001b[0m     \u001b[0;32mfor\u001b[0m \u001b[0mtrain\u001b[0m\u001b[0;34m,\u001b[0m\u001b[0mtest\u001b[0m \u001b[0;32min\u001b[0m \u001b[0mcvGen\u001b[0m\u001b[0;34m.\u001b[0m\u001b[0msplit\u001b[0m\u001b[0;34m(\u001b[0m\u001b[0mX\u001b[0m\u001b[0;34m=\u001b[0m\u001b[0mX\u001b[0m\u001b[0;34m)\u001b[0m\u001b[0;34m:\u001b[0m\u001b[0;34m\u001b[0m\u001b[0m\n\u001b[0;32m--> 378\u001b[0;31m         \u001b[0mfit\u001b[0m\u001b[0;34m=\u001b[0m\u001b[0mclf\u001b[0m\u001b[0;34m.\u001b[0m\u001b[0mfit\u001b[0m\u001b[0;34m(\u001b[0m\u001b[0mX\u001b[0m\u001b[0;34m=\u001b[0m\u001b[0mX\u001b[0m\u001b[0;34m.\u001b[0m\u001b[0miloc\u001b[0m\u001b[0;34m[\u001b[0m\u001b[0mtrain\u001b[0m\u001b[0;34m,\u001b[0m\u001b[0;34m:\u001b[0m\u001b[0;34m]\u001b[0m\u001b[0;34m,\u001b[0m\u001b[0my\u001b[0m\u001b[0;34m=\u001b[0m\u001b[0my\u001b[0m\u001b[0;34m.\u001b[0m\u001b[0miloc\u001b[0m\u001b[0;34m[\u001b[0m\u001b[0mtrain\u001b[0m\u001b[0;34m]\u001b[0m\u001b[0;34m,\u001b[0m\u001b[0msample_weight\u001b[0m\u001b[0;34m=\u001b[0m\u001b[0msample_weight\u001b[0m\u001b[0;34m.\u001b[0m\u001b[0miloc\u001b[0m\u001b[0;34m[\u001b[0m\u001b[0mtrain\u001b[0m\u001b[0;34m]\u001b[0m\u001b[0;34m.\u001b[0m\u001b[0mvalues\u001b[0m\u001b[0;34m)\u001b[0m\u001b[0;34m\u001b[0m\u001b[0m\n\u001b[0m\u001b[1;32m    379\u001b[0m         \u001b[0;32mif\u001b[0m \u001b[0mscoring\u001b[0m\u001b[0;34m==\u001b[0m\u001b[0;34m'neg_log_loss'\u001b[0m\u001b[0;34m:\u001b[0m\u001b[0;34m\u001b[0m\u001b[0m\n\u001b[1;32m    380\u001b[0m             \u001b[0mprob\u001b[0m\u001b[0;34m=\u001b[0m\u001b[0mfit\u001b[0m\u001b[0;34m.\u001b[0m\u001b[0mpredict_proba\u001b[0m\u001b[0;34m(\u001b[0m\u001b[0mX\u001b[0m\u001b[0;34m.\u001b[0m\u001b[0miloc\u001b[0m\u001b[0;34m[\u001b[0m\u001b[0mtest\u001b[0m\u001b[0;34m,\u001b[0m\u001b[0;34m:\u001b[0m\u001b[0;34m]\u001b[0m\u001b[0;34m)\u001b[0m\u001b[0;34m\u001b[0m\u001b[0m\n",
      "\u001b[0;32m/Users/jun/anaconda2/lib/python2.7/site-packages/sklearn/ensemble/gradient_boosting.pyc\u001b[0m in \u001b[0;36mfit\u001b[0;34m(self, X, y, sample_weight, monitor)\u001b[0m\n\u001b[1;32m   1393\u001b[0m \u001b[0;34m\u001b[0m\u001b[0m\n\u001b[1;32m   1394\u001b[0m         \u001b[0;31m# Check input\u001b[0m\u001b[0;34m\u001b[0m\u001b[0;34m\u001b[0m\u001b[0m\n\u001b[0;32m-> 1395\u001b[0;31m         \u001b[0mX\u001b[0m\u001b[0;34m,\u001b[0m \u001b[0my\u001b[0m \u001b[0;34m=\u001b[0m \u001b[0mcheck_X_y\u001b[0m\u001b[0;34m(\u001b[0m\u001b[0mX\u001b[0m\u001b[0;34m,\u001b[0m \u001b[0my\u001b[0m\u001b[0;34m,\u001b[0m \u001b[0maccept_sparse\u001b[0m\u001b[0;34m=\u001b[0m\u001b[0;34m[\u001b[0m\u001b[0;34m'csr'\u001b[0m\u001b[0;34m,\u001b[0m \u001b[0;34m'csc'\u001b[0m\u001b[0;34m,\u001b[0m \u001b[0;34m'coo'\u001b[0m\u001b[0;34m]\u001b[0m\u001b[0;34m,\u001b[0m \u001b[0mdtype\u001b[0m\u001b[0;34m=\u001b[0m\u001b[0mDTYPE\u001b[0m\u001b[0;34m)\u001b[0m\u001b[0;34m\u001b[0m\u001b[0m\n\u001b[0m\u001b[1;32m   1396\u001b[0m         \u001b[0mn_samples\u001b[0m\u001b[0;34m,\u001b[0m \u001b[0mself\u001b[0m\u001b[0;34m.\u001b[0m\u001b[0mn_features_\u001b[0m \u001b[0;34m=\u001b[0m \u001b[0mX\u001b[0m\u001b[0;34m.\u001b[0m\u001b[0mshape\u001b[0m\u001b[0;34m\u001b[0m\u001b[0m\n\u001b[1;32m   1397\u001b[0m         \u001b[0;32mif\u001b[0m \u001b[0msample_weight\u001b[0m \u001b[0;32mis\u001b[0m \u001b[0mNone\u001b[0m\u001b[0;34m:\u001b[0m\u001b[0;34m\u001b[0m\u001b[0m\n",
      "\u001b[0;32m/Users/jun/anaconda2/lib/python2.7/site-packages/sklearn/utils/validation.pyc\u001b[0m in \u001b[0;36mcheck_X_y\u001b[0;34m(X, y, accept_sparse, accept_large_sparse, dtype, order, copy, force_all_finite, ensure_2d, allow_nd, multi_output, ensure_min_samples, ensure_min_features, y_numeric, warn_on_dtype, estimator)\u001b[0m\n\u001b[1;32m    754\u001b[0m                     \u001b[0mensure_min_features\u001b[0m\u001b[0;34m=\u001b[0m\u001b[0mensure_min_features\u001b[0m\u001b[0;34m,\u001b[0m\u001b[0;34m\u001b[0m\u001b[0m\n\u001b[1;32m    755\u001b[0m                     \u001b[0mwarn_on_dtype\u001b[0m\u001b[0;34m=\u001b[0m\u001b[0mwarn_on_dtype\u001b[0m\u001b[0;34m,\u001b[0m\u001b[0;34m\u001b[0m\u001b[0m\n\u001b[0;32m--> 756\u001b[0;31m                     estimator=estimator)\n\u001b[0m\u001b[1;32m    757\u001b[0m     \u001b[0;32mif\u001b[0m \u001b[0mmulti_output\u001b[0m\u001b[0;34m:\u001b[0m\u001b[0;34m\u001b[0m\u001b[0m\n\u001b[1;32m    758\u001b[0m         y = check_array(y, 'csr', force_all_finite=True, ensure_2d=False,\n",
      "\u001b[0;32m/Users/jun/anaconda2/lib/python2.7/site-packages/sklearn/utils/validation.pyc\u001b[0m in \u001b[0;36mcheck_array\u001b[0;34m(array, accept_sparse, accept_large_sparse, dtype, order, copy, force_all_finite, ensure_2d, allow_nd, ensure_min_samples, ensure_min_features, warn_on_dtype, estimator)\u001b[0m\n\u001b[1;32m    571\u001b[0m         \u001b[0;32mif\u001b[0m \u001b[0mforce_all_finite\u001b[0m\u001b[0;34m:\u001b[0m\u001b[0;34m\u001b[0m\u001b[0m\n\u001b[1;32m    572\u001b[0m             _assert_all_finite(array,\n\u001b[0;32m--> 573\u001b[0;31m                                allow_nan=force_all_finite == 'allow-nan')\n\u001b[0m\u001b[1;32m    574\u001b[0m \u001b[0;34m\u001b[0m\u001b[0m\n\u001b[1;32m    575\u001b[0m     \u001b[0mshape_repr\u001b[0m \u001b[0;34m=\u001b[0m \u001b[0m_shape_repr\u001b[0m\u001b[0;34m(\u001b[0m\u001b[0marray\u001b[0m\u001b[0;34m.\u001b[0m\u001b[0mshape\u001b[0m\u001b[0;34m)\u001b[0m\u001b[0;34m\u001b[0m\u001b[0m\n",
      "\u001b[0;32m/Users/jun/anaconda2/lib/python2.7/site-packages/sklearn/utils/validation.pyc\u001b[0m in \u001b[0;36m_assert_all_finite\u001b[0;34m(X, allow_nan)\u001b[0m\n\u001b[1;32m     54\u001b[0m                 not allow_nan and not np.isfinite(X).all()):\n\u001b[1;32m     55\u001b[0m             \u001b[0mtype_err\u001b[0m \u001b[0;34m=\u001b[0m \u001b[0;34m'infinity'\u001b[0m \u001b[0;32mif\u001b[0m \u001b[0mallow_nan\u001b[0m \u001b[0;32melse\u001b[0m \u001b[0;34m'NaN, infinity'\u001b[0m\u001b[0;34m\u001b[0m\u001b[0m\n\u001b[0;32m---> 56\u001b[0;31m             \u001b[0;32mraise\u001b[0m \u001b[0mValueError\u001b[0m\u001b[0;34m(\u001b[0m\u001b[0mmsg_err\u001b[0m\u001b[0;34m.\u001b[0m\u001b[0mformat\u001b[0m\u001b[0;34m(\u001b[0m\u001b[0mtype_err\u001b[0m\u001b[0;34m,\u001b[0m \u001b[0mX\u001b[0m\u001b[0;34m.\u001b[0m\u001b[0mdtype\u001b[0m\u001b[0;34m)\u001b[0m\u001b[0;34m)\u001b[0m\u001b[0;34m\u001b[0m\u001b[0m\n\u001b[0m\u001b[1;32m     57\u001b[0m \u001b[0;34m\u001b[0m\u001b[0m\n\u001b[1;32m     58\u001b[0m \u001b[0;34m\u001b[0m\u001b[0m\n",
      "\u001b[0;31mValueError\u001b[0m: Input contains NaN, infinity or a value too large for dtype('float32')."
     ]
    }
   ],
   "source": [
    "begin = time.time()\n",
    "clf.set_params(n_estimators=100)\n",
    "temp1 = cvScore(clf,X,y,sample_weight,scoring='accuracy',t1=events.t1.iloc[X.index],cv= 10,pctEmbargo = 0.05)\n",
    "print('Time consuming:',time.time() - begin)"
   ]
  },
  {
   "cell_type": "code",
   "execution_count": null,
   "metadata": {},
   "outputs": [],
   "source": [
    "print(X.columns)\n",
    "print(temp1)\n",
    "print(np.average(temp1))"
   ]
  },
  {
   "cell_type": "markdown",
   "metadata": {},
   "source": [
    "# chapter 8 feature importance"
   ]
  },
  {
   "cell_type": "code",
   "execution_count": null,
   "metadata": {},
   "outputs": [],
   "source": [
    "# only to random forest\n",
    "# featImpMDI(clf,X.columns)"
   ]
  },
  {
   "cell_type": "code",
   "execution_count": null,
   "metadata": {},
   "outputs": [],
   "source": [
    "featImpMDA(clf,X,y,5,sample_weight,events.t1.iloc[X.index],0.01,scoring='neg_log_loss')"
   ]
  },
  {
   "cell_type": "code",
   "execution_count": null,
   "metadata": {},
   "outputs": [],
   "source": [
    "cont = pd.DataFrame([1] * len(X))\n",
    "cont['bin'] = list(y)\n",
    "cont.columns = ['w','bin']\n",
    "\n",
    "print(cont.columns)\n",
    "\n",
    "scoring = 'accuracy'\n",
    "\n",
    "cv = 5\n",
    "pctEmbargo = 0.01\n",
    "cvGen=PurgedKFold(n_splits=cv,t1=t1.iloc[X.index],pctEmbargo=pctEmbargo)\n",
    "\n",
    "featNames = X.columns\n",
    "trnsX = X\n",
    "auxFeatImpSFI(featNames, clf, trnsX, cont, scoring, cvGen)\n",
    "# auxFeatImpSFI(featNames, clf, trnsX, cont, scoring, cvGen)"
   ]
  },
  {
   "cell_type": "code",
   "execution_count": null,
   "metadata": {},
   "outputs": [],
   "source": []
  },
  {
   "cell_type": "markdown",
   "metadata": {},
   "source": [
    "# 8.5 backtesting"
   ]
  },
  {
   "cell_type": "code",
   "execution_count": null,
   "metadata": {},
   "outputs": [],
   "source": [
    "events = ROC(events,2)\n",
    "events = ROC(events,3)\n",
    "events = ROC(events,4)\n",
    "events = ROC(events,5)\n",
    "events = ROC(events,10)\n",
    "events = ROC(events,20)\n",
    "events = ROC(events,30)\n",
    "events = ROC(events,60)\n",
    "events = ROC(events,90)\n",
    "events = ROC(events,120)\n",
    "events = ROC(events,180)\n",
    "events = ROC(events,226)\n",
    "events = ROC(events,226*2)\n",
    "events = ROC(events,226*3)\n",
    "events = ROC(events,226*4)"
   ]
  },
  {
   "cell_type": "code",
   "execution_count": null,
   "metadata": {},
   "outputs": [],
   "source": [
    "# selected_column\n",
    "# events\n",
    "X = events[selected_column].iloc[:-120].dropna()\n",
    "y  = pd.Series( [0] * len(output_applyPtSlOnT1) )\n",
    "y.loc[ output_applyPtSlOnT1.sl > output_applyPtSlOnT1.pt ] = 1\n",
    "y.loc[ output_applyPtSlOnT1.sl < output_applyPtSlOnT1.pt ] = -1\n",
    "y = y.iloc[:-120]\n",
    "# double check\n",
    "\n",
    "y = y.iloc[X.index]\n",
    "print(len(X), len(y), np.sum(y == 1), np.sum(output_applyPtSlOnT1.sl > output_applyPtSlOnT1.pt),  ) \n",
    "\n",
    "RANDOM_STATE = 124\n",
    "clf=GradientBoostingClassifier(warm_start=False,max_features=\"log2\",random_state=RANDOM_STATE)\n",
    "clf.set_params(n_estimators=100)\n"
   ]
  },
  {
   "cell_type": "code",
   "execution_count": null,
   "metadata": {},
   "outputs": [],
   "source": [
    "print( np.sum( X.index != y.index ) )"
   ]
  },
  {
   "cell_type": "code",
   "execution_count": null,
   "metadata": {},
   "outputs": [],
   "source": [
    "# X.iloc[0] == X.loc[903]"
   ]
  },
  {
   "cell_type": "code",
   "execution_count": null,
   "metadata": {},
   "outputs": [],
   "source": [
    "lookback = 50 # days\n",
    "pnl = 0\n",
    "for i in range( lookback, int( len(events)/226.0 ) -1 ):\n",
    "# for i in range( lookback, lookback +1 ):\n",
    "    clf.fit(X.loc[ max ( (i - lookback) * 226,0 ):i*226], y.loc[ max ((i - lookback) * 226,0):i*226])\n",
    "#     for j in range(i * 226, (i+1)*226 ):\n",
    "    tempX = X.loc[i * 226: (i+1) * 226]\n",
    "    tempy = y.loc[i * 226: (i+1) * 226]\n",
    "#     prob = pd.Series( clf.predict_proba(tempX)[:,2] )\n",
    "    pred = pd.Series( clf.predict(tempX) )\n",
    "    eachday_pnl = np.array ( events.trgt.loc[i * 226: (i+1) * 226]  ) * np.array(tempy)\n",
    "    pnl += np.dot( np.array(pred), eachday_pnl)\n",
    "    print( i ,np.sum(pred == 1), np.sum(pred == -1) ,pnl )"
   ]
  },
  {
   "cell_type": "code",
   "execution_count": null,
   "metadata": {},
   "outputs": [],
   "source": []
  },
  {
   "cell_type": "code",
   "execution_count": null,
   "metadata": {},
   "outputs": [],
   "source": [
    "lookback = 200 # days\n",
    "pnl = 0\n",
    "for i in range( lookback, int( len(events)/226.0 ) -1 ):\n",
    "# for i in range( lookback, lookback +1 ):\n",
    "    clf.fit(X.loc[ max ( (i - lookback) * 226,0 ):i*226], y.loc[ max ((i - lookback) * 226,0):i*226])\n",
    "#     for j in range(i * 226, (i+1)*226 ):\n",
    "    tempX = X.loc[i * 226: (i+1) * 226]\n",
    "    tempy = y.loc[i * 226: (i+1) * 226]\n",
    "#     prob = pd.Series( clf.predict_proba(tempX)[:,2] )\n",
    "    pred = pd.Series( clf.predict(tempX) )\n",
    "    eachday_pnl = np.array ( events.trgt.loc[i * 226: (i+1) * 226]  ) * np.array(tempy)\n",
    "    pnl += np.dot( np.array(pred), eachday_pnl)\n",
    "    print( i ,np.sum(pred == 1), np.sum(pred == -1) ,pnl )"
   ]
  },
  {
   "cell_type": "code",
   "execution_count": null,
   "metadata": {
    "scrolled": true
   },
   "outputs": [],
   "source": [
    "lookback = 100 # days\n",
    "pnl = 0\n",
    "for i in range( lookback, int( len(events)/226.0 ) -1 ):\n",
    "# for i in range( lookback, lookback +1 ):\n",
    "    clf.fit(X.loc[ max ( (i - lookback) * 226,0 ):i*226], y.loc[ max ((i - lookback) * 226,0):i*226])\n",
    "#     for j in range(i * 226, (i+1)*226 ):\n",
    "    tempX = X.loc[i * 226: (i+1) * 226]\n",
    "    tempy = y.loc[i * 226: (i+1) * 226]\n",
    "#     prob = pd.Series( clf.predict_proba(tempX)[:,2] )\n",
    "    pred = pd.Series( clf.predict(tempX) )\n",
    "    eachday_pnl = np.array ( events.trgt.loc[i * 226: (i+1) * 226]  ) * np.array(tempy)\n",
    "    pnl += np.dot( np.array(pred), eachday_pnl)\n",
    "    print( i ,np.sum(pred == 1), np.sum(pred == -1) ,pnl )"
   ]
  },
  {
   "cell_type": "code",
   "execution_count": null,
   "metadata": {},
   "outputs": [],
   "source": [
    "# events.trgt * 2\n",
    "print(len(tempy),len(pred))\n",
    "print(type(tempy),type(pred))\n",
    "np.array(tempy) * np.array(pred)\n",
    "np.dot( tempy,pred )"
   ]
  },
  {
   "cell_type": "code",
   "execution_count": null,
   "metadata": {},
   "outputs": [],
   "source": []
  }
 ],
 "metadata": {
  "kernelspec": {
   "display_name": "Python 2",
   "language": "python",
   "name": "python2"
  },
  "language_info": {
   "codemirror_mode": {
    "name": "ipython",
    "version": 2
   },
   "file_extension": ".py",
   "mimetype": "text/x-python",
   "name": "python",
   "nbconvert_exporter": "python",
   "pygments_lexer": "ipython2",
   "version": "2.7.15"
  }
 },
 "nbformat": 4,
 "nbformat_minor": 1
}
